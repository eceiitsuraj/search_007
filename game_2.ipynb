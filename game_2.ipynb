{
 "cells": [
  {
   "cell_type": "markdown",
   "id": "34c25359",
   "metadata": {},
   "source": [
    "# Searching 007"
   ]
  },
  {
   "cell_type": "code",
   "execution_count": 1,
   "id": "6df79a07",
   "metadata": {},
   "outputs": [],
   "source": [
    "def game(a):\n",
    "    j=0\n",
    "    k=0\n",
    "    N=len(a)\n",
    "    flag=0\n",
    "    for i in range(N):\n",
    "        if i==N-1:\n",
    "            flag=1\n",
    "        if a[i]==0:\n",
    "            j=i\n",
    "            break\n",
    "        \n",
    "    if flag==0:\n",
    "        for i in range(j+1,N):\n",
    "            if i==N-1:\n",
    "                flag=1\n",
    "            if a[i]==0:\n",
    "                k=i\n",
    "                break\n",
    "           \n",
    "    if flag==0:\n",
    "        for i in range(k+1,N):\n",
    "            if a[i]==7:\n",
    "                print(\"True\")\n",
    "                break\n",
    "            elif i==N-1:\n",
    "                flag=1\n",
    "    if flag==1:\n",
    "        print(\"False\")"
   ]
  },
  {
   "cell_type": "code",
   "execution_count": 2,
   "id": "869ca08f",
   "metadata": {},
   "outputs": [
    {
     "name": "stdout",
     "output_type": "stream",
     "text": [
      "True\n"
     ]
    }
   ],
   "source": [
    "game([1,0,7,5,6,99,4,0,5,0,9,6,7,0,86])"
   ]
  },
  {
   "cell_type": "code",
   "execution_count": null,
   "id": "0f64a4a7",
   "metadata": {},
   "outputs": [],
   "source": []
  }
 ],
 "metadata": {
  "kernelspec": {
   "display_name": "Python 3 (ipykernel)",
   "language": "python",
   "name": "python3"
  },
  "language_info": {
   "codemirror_mode": {
    "name": "ipython",
    "version": 3
   },
   "file_extension": ".py",
   "mimetype": "text/x-python",
   "name": "python",
   "nbconvert_exporter": "python",
   "pygments_lexer": "ipython3",
   "version": "3.9.7"
  }
 },
 "nbformat": 4,
 "nbformat_minor": 5
}
